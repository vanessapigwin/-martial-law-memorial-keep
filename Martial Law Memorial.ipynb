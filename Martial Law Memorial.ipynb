{
 "cells": [
  {
   "cell_type": "markdown",
   "id": "b47b4b18",
   "metadata": {},
   "source": [
    "## Scrape of List of Victims and Recognized Motu Proprio\n",
    "\n",
    "<img src='https://web.archive.org/web/20220517114810im_/https://hrvvmemcom.gov.ph/wp-content/uploads/slider18/dividerblockbackground.jpg'>\n",
    "\n",
    "Scraped data was based on the website 'Human Rights Violations Victims' Memorial Commission' (https://hrvvmemcom.gov.ph/list-of-victims-recognized-motu-proprio/, archive:https://web.archive.org/web/20220517114810/https://hrvvmemcom.gov.ph/list-of-victims-recognized-motu-proprio/)\n",
    "\n",
    "Because revionism is most likely going to intensify under the regime of Bongbong Marcos Jr. It was decided to archive the website and scrape the names of victims.It was originally intended to archive the Human Rights Victims' Claims Board but the website is alreay defunct."
   ]
  },
  {
   "cell_type": "code",
   "execution_count": 1,
   "id": "b75f9f11",
   "metadata": {},
   "outputs": [],
   "source": [
    "original_page = 'https://hrvvmemcom.gov.ph/list-of-victims-recognized-motu-proprio/'\n",
    "mirror = 'https://web.archive.org/web/20220517114810/https://hrvvmemcom.gov.ph/list-of-victims-recognized-motu-proprio/'"
   ]
  },
  {
   "cell_type": "code",
   "execution_count": 2,
   "id": "027c055a",
   "metadata": {},
   "outputs": [
    {
     "name": "stderr",
     "output_type": "stream",
     "text": [
      "\n",
      "\n",
      "====== WebDriver manager ======\n",
      "Current google-chrome version is 101.0.4951\n",
      "Get LATEST chromedriver version for 101.0.4951 google-chrome\n",
      "Driver [C:\\Users\\Vanessa\\.wdm\\drivers\\chromedriver\\win32\\101.0.4951.41\\chromedriver.exe] found in cache\n"
     ]
    }
   ],
   "source": [
    "import requests\n",
    "from bs4 import BeautifulSoup\n",
    "import pandas as pd\n",
    "from selenium import webdriver\n",
    "from selenium.webdriver.chrome.service import Service\n",
    "from webdriver_manager.chrome import ChromeDriverManager\n",
    "from selenium.webdriver.common.by import By\n",
    "from time import sleep\n",
    "import re\n",
    "\n",
    "# installing driver manager\n",
    "service = Service(executable_path=ChromeDriverManager().install())"
   ]
  },
  {
   "cell_type": "code",
   "execution_count": 4,
   "id": "012a722c",
   "metadata": {},
   "outputs": [],
   "source": [
    "# use mirror to scrape\n",
    "r = requests.get(mirror)\n",
    "index_page = mirror"
   ]
  },
  {
   "cell_type": "code",
   "execution_count": 5,
   "id": "95640ad6",
   "metadata": {},
   "outputs": [],
   "source": [
    "# create beautiful soup object\n",
    "soup = BeautifulSoup(r.text, 'html.parser')"
   ]
  },
  {
   "cell_type": "markdown",
   "id": "87c89376",
   "metadata": {},
   "source": [
    "#### Point System\n",
    "\n",
    "* 10 : killings and enforced disappearance\n",
    "* 9 : torture (rape and forcible abduction)\n",
    "* 8 : torture (mutilation, sexual abuse, children and minors involved)\n",
    "* 7 : torture (psychological, mental, emotional harm, acts of lasciviousness)\n",
    "* 6 : cruel, inhumane and degrading treatment\n",
    "* 5 : arbitrary detention (> 6 months)\n",
    "* 4 : arbitrary detention (15 days - 6 months)\n",
    "* 3 : arbitrary detention (36 hours - 15 days)\n",
    "* 2 : involuntary exile (violence and illegal takeover of business)\n",
    "* 1 : involuntary exile (intimidation and physical injuries)"
   ]
  },
  {
   "cell_type": "markdown",
   "id": "7a4e60b6",
   "metadata": {},
   "source": [
    "#### Get all pages assigned to Point System \n",
    "\n",
    "As per Annex A “Legal Guide on Definition of Human Rights Violations and Awarding of Points Under RA 10368”"
   ]
  },
  {
   "cell_type": "code",
   "execution_count": 6,
   "id": "85c69c8b",
   "metadata": {
    "scrolled": true
   },
   "outputs": [
    {
     "name": "stdout",
     "output_type": "stream",
     "text": [
      "https://web.archive.org/web/20220517114810/https://hrvvmemcom.gov.ph/10-points-5/\n",
      "https://web.archive.org/web/20220517114810/https://hrvvmemcom.gov.ph/9-points-2/\n",
      "https://web.archive.org/web/20220517114810/https://hrvvmemcom.gov.ph/8-points-2/\n",
      "https://web.archive.org/web/20220517114810/https://hrvvmemcom.gov.ph/7-points-2/\n",
      "https://web.archive.org/web/20220517114810/https://hrvvmemcom.gov.ph/6-points-2/\n",
      "https://web.archive.org/web/20220517114810/https://hrvvmemcom.gov.ph/work-in-progress/\n",
      "https://web.archive.org/web/20220517114810/https://hrvvmemcom.gov.ph/work-in-progress/\n",
      "https://web.archive.org/web/20220517114810/https://hrvvmemcom.gov.ph/work-in-progress/\n",
      "https://web.archive.org/web/20220517114810/https://hrvvmemcom.gov.ph/work-in-progress/\n",
      "https://web.archive.org/web/20220517114810/https://hrvvmemcom.gov.ph/work-in-progress/\n"
     ]
    }
   ],
   "source": [
    "# find all links with text 'Click here to see names of victims'\n",
    "links = soup.find_all('a', text='Click here to see names of victims')\n",
    "\n",
    "for link in links:\n",
    "    print(link['href'])"
   ]
  },
  {
   "cell_type": "markdown",
   "id": "5a37ff07",
   "metadata": {},
   "source": [
    "Trimming list to include only pages with victims listed"
   ]
  },
  {
   "cell_type": "code",
   "execution_count": 7,
   "id": "a17dc8ca",
   "metadata": {
    "scrolled": false
   },
   "outputs": [],
   "source": [
    "point_links = [link['href'] for link in links[0:5]]"
   ]
  },
  {
   "cell_type": "markdown",
   "id": "f0da0b68",
   "metadata": {},
   "source": [
    "#### Get totals of Points 5 to 1\n",
    "\n",
    "Since there are no lists of victim names, only total of cases are retrieved for cases with 1 to 5 points (involuntary exile to arbitrary detention)"
   ]
  },
  {
   "cell_type": "code",
   "execution_count": 8,
   "id": "4548b4ee",
   "metadata": {},
   "outputs": [],
   "source": [
    "# use webdriver to wait loading of page and js animations\n",
    "chrome = webdriver.Chrome(service=service)\n",
    "chrome.get(index_page)\n",
    "sleep(30)\n",
    "\n",
    "# get last 5 values\n",
    "numbers_elements = chrome.find_elements(By.CLASS_NAME, 'n2-ss-item-counter-counting-div') \n",
    "numbers = [number.text for number in numbers_elements][-5:]\n",
    "\n",
    "chrome.quit()"
   ]
  },
  {
   "cell_type": "code",
   "execution_count": 9,
   "id": "c1959b99",
   "metadata": {},
   "outputs": [],
   "source": [
    "# create csv for victim counts for cases 5 to 1\n",
    "detention_and_exile = pd.DataFrame(data=zip(range(5,0,-1), numbers))\n",
    "detention_and_exile.rename(columns={0:'Points',1:'Victims'}, inplace=True)\n",
    "detention_and_exile['Victims'] = detention_and_exile['Victims'].str.replace(',','').astype(int)\n",
    "\n",
    "# fix index and export\n",
    "detention_and_exile.to_csv('detentions_exile.csv', index=False)"
   ]
  },
  {
   "cell_type": "markdown",
   "id": "667f7478",
   "metadata": {},
   "source": [
    "#### On Motu Proprio Recognized Victims\n",
    "\n",
    "Motu Proprio victims suffered varying degrees of oppression, but they chose to forgo reparations. These victims were identified based on Sections 18 and 26 of R.A. 10368, as well as Section 20 of the Implementing Rules and Regulations of R.A. 10368. "
   ]
  },
  {
   "cell_type": "code",
   "execution_count": 10,
   "id": "4ab5c0dd",
   "metadata": {},
   "outputs": [],
   "source": [
    "# find all names table entries, remove indices and save in text file\n",
    "mp_victims = soup.find_all('tr')\n",
    "mp_victims_names = [re.sub(\"\\d+\", \" \", victim.text.strip()) for victim in mp_victims]\n",
    "\n",
    "with open('motu_proprio_victims.txt', 'w', encoding = 'utf-8') as f:\n",
    "    for item in mp_victims_names:\n",
    "        f.write(f'{item}\\n')"
   ]
  },
  {
   "cell_type": "markdown",
   "id": "0664bd5a",
   "metadata": {},
   "source": [
    "#### Get all names for Victims with 10 to 6 points"
   ]
  },
  {
   "cell_type": "code",
   "execution_count": 12,
   "id": "524bcc62",
   "metadata": {
    "scrolled": false
   },
   "outputs": [],
   "source": [
    "# get names for cases with points from 10 to 6\n",
    "for index, link in enumerate(point_links):\n",
    "    \n",
    "    fname = f'points{10-index}.csv'\n",
    "\n",
    "    # request site\n",
    "    r = requests.get(link)\n",
    "    soup = BeautifulSoup(r.text, 'html.parser')\n",
    "    \n",
    "    # get rows with names and place of incident\n",
    "    rows = soup.find_all('tr')\n",
    "    content = [row.text.strip() for row in rows[1:]]\n",
    "        \n",
    "    victim_names = [text.split('\\n')[0] for text in content]\n",
    "    \n",
    "    # remvoe place of incident for cases with points=10\n",
    "    if index == 0:\n",
    "        place_of_incident = [text.split('\\n')[-1] for text in content]\n",
    "        df = pd.DataFrame(data = {'victim':victim_names, 'place_of_incident':place_of_incident})\n",
    "    else:\n",
    "        df = pd.DataFrame(data = {'victim':victim_names})\n",
    "    \n",
    "    df.to_csv(fname, index=False, sep='\\t')\n",
    "    \n",
    "    sleep(60)"
   ]
  },
  {
   "cell_type": "code",
   "execution_count": null,
   "id": "77bd57d7",
   "metadata": {},
   "outputs": [],
   "source": []
  }
 ],
 "metadata": {
  "kernelspec": {
   "display_name": "Python 3 (ipykernel)",
   "language": "python",
   "name": "python3"
  },
  "language_info": {
   "codemirror_mode": {
    "name": "ipython",
    "version": 3
   },
   "file_extension": ".py",
   "mimetype": "text/x-python",
   "name": "python",
   "nbconvert_exporter": "python",
   "pygments_lexer": "ipython3",
   "version": "3.8.8"
  }
 },
 "nbformat": 4,
 "nbformat_minor": 5
}
